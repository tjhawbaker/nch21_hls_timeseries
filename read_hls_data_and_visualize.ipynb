{
 "cells": [
  {
   "cell_type": "code",
   "execution_count": null,
   "id": "e2b839bc-b48e-440f-9601-b4480de2f5bb",
   "metadata": {},
   "outputs": [],
   "source": [
    "%matplotlib inline\n",
    "import matplotlib.pyplot as plt\n",
    "from datetime import datetime\n",
    "import time\n",
    "import os\n",
    "import pandas\n",
    "import requests\n",
    "import boto3\n",
    "import numpy as np\n",
    "import xarray as xr\n",
    "import rasterio as rio\n",
    "from rasterio.session import AWSSession\n",
    "from rasterio.plot import show\n",
    "import rioxarray"
   ]
  },
  {
   "cell_type": "code",
   "execution_count": null,
   "id": "aa4b5c0d-be88-4286-9731-7f8fb2626b58",
   "metadata": {},
   "outputs": [],
   "source": [
    "# get credentials\n",
    "s3_cred_endpoint = 'https://data.lpdaac.earthdatacloud.nasa.gov/s3credentials'\n",
    "def get_temp_creds():\n",
    "    temp_creds_url = s3_cred_endpoint\n",
    "    return requests.get(temp_creds_url).json()\n",
    "\n",
    "temp_creds_req = get_temp_creds()\n",
    "\n",
    "session = boto3.Session(aws_access_key_id=temp_creds_req['accessKeyId'], \n",
    "                        aws_secret_access_key=temp_creds_req['secretAccessKey'],\n",
    "                        aws_session_token=temp_creds_req['sessionToken'],\n",
    "                        region_name='us-west-2')"
   ]
  },
  {
   "cell_type": "code",
   "execution_count": null,
   "id": "0da8b353-7fe4-4625-b7e8-1371ddc12fb8",
   "metadata": {},
   "outputs": [],
   "source": [
    "session"
   ]
  },
  {
   "cell_type": "code",
   "execution_count": null,
   "id": "3dd1669e-0c70-4d79-830d-e12fad022730",
   "metadata": {},
   "outputs": [],
   "source": [
    "rio_env = rio.Env(AWSSession(session),\n",
    "                  GDAL_DISABLE_READDIR_ON_OPEN='EMPTY_DIR',\n",
    "                  GDAL_HTTP_COOKIEFILE=os.path.expanduser('~/cookies.txt'),\n",
    "                  GDAL_HTTP_COOKIEJAR=os.path.expanduser('~/cookies.txt'))\n",
    "rio_env.__enter__()"
   ]
  },
  {
   "cell_type": "code",
   "execution_count": null,
   "id": "40355d58-1383-402a-a2ed-7c83318f5e56",
   "metadata": {},
   "outputs": [],
   "source": [
    "# read the .csv file with S3 links\n",
    "stack_df = pandas.read_csv('/home/jovyan/nch21_hls_timeseries/HLS_data/T13TDE/stack.csv')\n",
    "stack_df = stack_df.loc[~stack_df['date'].isna(), :]\n",
    "stack_df.reset_index(inplace=True)\n",
    "stack_df"
   ]
  },
  {
   "cell_type": "code",
   "execution_count": null,
   "id": "e60b06e9-c43c-4d79-87d1-e27ff4b7dfbf",
   "metadata": {},
   "outputs": [],
   "source": [
    "# subset the s3 links by band\n",
    "header = ['label', 'L30_band', 'S30_band', 'read']\n",
    "data = [\n",
    "    ['coastal_aerosol', 'B01', 'B01', False],\n",
    "    ['blue', 'B02', 'B02', True],\n",
    "    ['green', 'B03', 'B03', True],\n",
    "    ['red', 'B04', 'B04', True],\n",
    "    ['red-edge_1', None, 'B05', False],\n",
    "    ['red-edge_2', None, 'B06', False],\n",
    "    ['red-edge_3', None, 'B07', False],\n",
    "    ['nir_broad', None, 'B08', False],\n",
    "    ['nir', 'B05', 'B8A', True],\n",
    "    ['swir_1', 'B06', 'B11', True],\n",
    "    ['swir_2', 'B07', 'B12', True],\n",
    "    ['water_vapor', None, 'B09', False],\n",
    "    ['cirrus', 'B09', 'B10', False],\n",
    "    ['thermal_infrared_1', 'B10', None, False],\n",
    "    ['thermal_infrared_2', 'B11', None, False],\n",
    "    ['fmask', 'Fmask', 'Fmask', True]\n",
    "]\n",
    "\n",
    "band_df = pandas.DataFrame(data, columns=header)\n",
    "band_df"
   ]
  },
  {
   "cell_type": "code",
   "execution_count": null,
   "id": "a05b7e52-ccf7-462d-8126-78b915798eac",
   "metadata": {},
   "outputs": [],
   "source": [
    "%%time\n",
    "\n",
    "chunks=dict(band=1, x=256, y=256)\n",
    "\n",
    "hls_ds = None\n",
    "\n",
    "for i in range(0, band_df.shape[0]):\n",
    "    if band_df.loc[i, 'read'] == True:\n",
    "        # subset stack for links for each band\n",
    "        band_stack = stack_df.loc[\n",
    "        ((stack_df['band'] == band_df.loc[i,'L30_band']) & (stack_df['sensor'] == 'L30')) |\n",
    "        ((stack_df['band'] == band_df.loc[i,'S30_band']) & (stack_df['sensor'] == 'S30')), :]\n",
    "        \n",
    "        # create the time index\n",
    "        band_time = [datetime.strptime(str(t), '%Y%jT%H%M%S') for t in band_stack['date']]\n",
    "        xr.Variable('time', band_time)\n",
    "\n",
    "        #s3_links = band_stack['S3_links']\n",
    "        s3_links = band_stack['local_links']\n",
    "        \n",
    "        # get the band label\n",
    "        band_label = band_df.loc[i, 'label']\n",
    "        \n",
    "        # open the links\n",
    "        hls_ts_da = xr.concat([rioxarray.open_rasterio(f, chunks=chunks).squeeze('band', drop=True) for f in s3_links], dim=band_time)\n",
    "        hls_ts_da = hls_ts_da.rename({'concat_dim':'time'})\n",
    "        \n",
    "        if hls_ds is None:\n",
    "            hls_ds = xr.Dataset({band_label: hls_ts_da})\n",
    "        else:\n",
    "            hls_ds[band_label] = hls_ts_da\n",
    "\n",
    "#hls_ds.rename({'concat_dim':'time'})\n",
    "hls_ds"
   ]
  },
  {
   "cell_type": "code",
   "execution_count": null,
   "id": "bfdaa1fc-77eb-404a-9862-4f0a0888dc61",
   "metadata": {},
   "outputs": [],
   "source": [
    "%%time\n",
    "\n",
    "def SI(b1, b2):\n",
    "    si = (b1 - b2) / (b1 + b2)\n",
    "    si = xr.where(si < -1.0, -1.0, si)\n",
    "    si = xr.where(si > 1.0, 1.0, si)\n",
    "    si = xr.where(np.isfinite(si), si, np.nan)\n",
    "    return(si)\n",
    "\n",
    "# calculate NDVI (normalized difference vegetation index)\n",
    "hls_ds['ndvi'] = SI(hls_ds['nir'], hls_ds['red'])\n",
    "\n",
    "# calculate NBR (normalized difference burn ratio)\n",
    "hls_ds['nbr'] = SI(hls_ds['nir'], hls_ds['swir_2'])\n",
    "\n",
    "# calculate NDWI (normalized difference water index)\n",
    "hls_ds['ndwi_gao'] = SI(hls_ds['nir'], hls_ds['swir_1'])\n",
    "hls_ds['ndwi_mcfeeters'] = SI(hls_ds['green'], hls_ds['nir'])\n",
    "\n",
    "# calculate NDSI (normalized difference snow index)\n",
    "hls_ds['ndsi'] = SI(hls_ds['green'], hls_ds['swir_1'])\n",
    "\n",
    "hls_ds"
   ]
  },
  {
   "cell_type": "code",
   "execution_count": null,
   "id": "47dc1cf4-eaa1-40e3-b622-7dd8eef3c1f2",
   "metadata": {},
   "outputs": [],
   "source": [
    "%%time\n",
    "\n",
    "hls_ds['fmask_cirrus'] = (hls_ds['fmask'] & 0b1) > 0\n",
    "hls_ds['fmask_cloud'] = (hls_ds['fmask'] & 0b10) > 0\n",
    "hls_ds['fmask_adjacent'] = (hls_ds['fmask'] & 0b100) > 0\n",
    "hls_ds['fmask_shadow'] = (hls_ds['fmask'] & 0b1000) > 0\n",
    "hls_ds['fmask_snow'] = (hls_ds['fmask'] & 0b10000) > 0\n",
    "hls_ds['fmask_water'] = (hls_ds['fmask'] & 0b100000) > 0\n",
    "hls_ds['fmask_aerosol6'] = (hls_ds['fmask'] & 0b1000000) > 0\n",
    "hls_ds['fmask_aerosol7'] = (hls_ds['fmask'] & 0b10000000) > 0"
   ]
  },
  {
   "cell_type": "code",
   "execution_count": null,
   "id": "e875847b-be87-48ba-b221-83117694d20c",
   "metadata": {},
   "outputs": [],
   "source": [
    "import geoviews as gv\n",
    "import hvplot.xarray\n",
    "import holoviews as hv\n",
    "gv.extension('bokeh', 'matplotlib')"
   ]
  },
  {
   "cell_type": "code",
   "execution_count": null,
   "id": "806023be-44ae-4af6-9e82-f52f482a482b",
   "metadata": {},
   "outputs": [],
   "source": [
    "# check fmask masks for a given scene\n",
    "# ignore water mask?\n",
    "# ignore aerosol levels\n",
    "\n",
    "i = 21 # which scene in the dataseries to examine\n",
    "print(hls_ds['time'][i])\n",
    "\n",
    "tt = hls_ds[['fmask_cirrus', 'fmask_cloud', 'fmask_adjacent', 'fmask_shadow', 'fmask_snow', 'fmask_water', 'fmask_aerosol6', 'fmask_aerosol7']]\n",
    "tt['fmask_cirrus'][i, :, :].hvplot(x='x', y='y', cmap='viridis', title='Cirrus clouds') + \\\n",
    "tt['fmask_cloud'][i, :, :].hvplot(x='x', y='y', cmap='viridis', title='Clouds')"
   ]
  },
  {
   "cell_type": "code",
   "execution_count": null,
   "id": "67ba0cd1-3127-4850-bf02-a0e5ca599a74",
   "metadata": {},
   "outputs": [],
   "source": [
    "tt['fmask_shadow'][i, :, :].hvplot(x='x', y='y', cmap='viridis', title='Cloud shadows') + \\\n",
    "tt['fmask_adjacent'][i, :, :].hvplot(x='x', y='y', cmap='viridis', title='Adjacent to cloud shadows')"
   ]
  },
  {
   "cell_type": "code",
   "execution_count": null,
   "id": "8081f697-36cc-4a2d-bc9d-c12fb54c17fe",
   "metadata": {},
   "outputs": [],
   "source": [
    "tt['fmask_snow'][i, :, :].hvplot(x='x', y='y', cmap='viridis', title='Snow/ice') + \\\n",
    "tt['fmask_water'][i, :, :].hvplot(x='x', y='y', cmap='viridis', title='Water')"
   ]
  },
  {
   "cell_type": "code",
   "execution_count": null,
   "id": "70ad72be-0ffd-44ec-9226-ed6333252e0f",
   "metadata": {},
   "outputs": [],
   "source": [
    "tt['fmask_aerosol6'][i, :, :].hvplot(x='x', y='y', cmap='viridis', title='Aerosol level (bit 6)') + \\\n",
    "tt['fmask_aerosol7'][i, :, :].hvplot(x='x', y='y', cmap='viridis', title='Aerosol level (bit7)')"
   ]
  },
  {
   "cell_type": "code",
   "execution_count": null,
   "id": "ece9e7c7-0a31-4865-9c68-4ab8d78d0648",
   "metadata": {},
   "outputs": [],
   "source": [
    "# plot NBR for 1 image\n",
    "hls_nbr = hls_ds['nbr'][i, :, :]\n",
    "hls_ndwi = hls_ds['ndwi_mcfeeters'][i, :, :]\n",
    "hls_ndsi = hls_ds['ndsi'][i, :, :]\n",
    "hls_nbr.hvplot.image(x='x', y='y', rasterize=True, colorbar=True, cmap='viridis', title='NBR').opts(clim=(-0.5, 0.5)) + \\\n",
    "hls_ndwi.hvplot.image(x='x', y='y', rasterize=True, colorbar=True, cmap='viridis', title='NDWI').opts(clim=(-0.5, 0.5)) + \\\n",
    "hls_ndsi.hvplot.image(x='x', y='y', rasterize=True, colorbar=True, cmap='viridis', title='NDSI').opts(clim=(-0.5, 0.5))\n",
    "\n",
    "# plot NBR for lots of images - this crashes the kernel because it uses too much memory\n",
    "#hls_ds['nbr'].hvplot(groupby='time', width=1220, cmap='BrBG', widget_location='bottom').opts(clim=(-1, 1))\n",
    "\n",
    "# plot qa values for 1 scene\n",
    "# https://matplotlib.org/stable/gallery/color/named_colors.html\n",
    "# clear (green), aerosol (250, light blue), water (251, blue), snow (252, cyan), clouds (253, white), cloud shadows (254, dark grey), nodata (255, black)\n",
    "#color_list = ['forestgreen'] * 250 + ['powderblue', 'dodgerblue', 'cyan', 'white', 'darkgray', 'black']\n",
    "#level_list = [0, 250, 251, 252, 253, 254, 255, 256]\n",
    "#print(len(color_list))\n",
    "\n",
    "#hls_ts_da_data = hls_ds['qa'][12, :, :]\n",
    "#hls_ts_da_data.hvplot.image(x='x', y='y', rasterize=True, colorbar=True, cmap=color_list) #.opts(clim=(0, 250, 251, 252, 253, 254, 255))\n",
    "#hls_ts_da_data.hvplot.image(x='x', y='y', rasterize=False, colorbar=True, color=color_list) #.opts(clim=(0, 250, 251, 252, 253, 254, 255))\n",
    "#hls_ts_da_data.plot(levels=level_list, colors=color_list)\n"
   ]
  },
  {
   "cell_type": "code",
   "execution_count": null,
   "id": "2b521e75-b093-43db-b18c-99602f97afdd",
   "metadata": {},
   "outputs": [],
   "source": [
    "##########\n",
    "# stretch parameters\n",
    "# min, max, mean, sd, n\n",
    "##########\n",
    "lndsr_scale = {\n",
    "    'swir_2':[0.0, 4000.0, 2000.0, 1000.0, 2.0], \\\n",
    "    'nir':[0.0, 4000.0, 2000.0, 1000.0, 2.0], \\\n",
    "    'blue':[0.0, 2000.0, 1000.0, 500.0, 2.0] \\\n",
    "}\n",
    "\n",
    "##########\n",
    "# apply sd stretch to a band\n",
    "##########\n",
    "def sd_stretch(x, params, nodata=-9999, q=255):\n",
    "    min_clip = params[0]\n",
    "    max_clip = params[1]\n",
    "    mean = params[2]\n",
    "    sd = params[3]\n",
    "    n = params[4]\n",
    "\n",
    "    min_stretch = mean - (n * sd)\n",
    "    max_stretch = mean + (n * sd)\n",
    "\n",
    "    x[x == nodata] = 0\n",
    "    x[x <= min_clip] = 0\n",
    "    x[x >= max_clip] = max_stretch\n",
    "\n",
    "    x_stretch = q * (x - min_stretch) / (max_stretch - min_stretch)\n",
    "\n",
    "    return(x_stretch.astype(np.uint8))"
   ]
  },
  {
   "cell_type": "code",
   "execution_count": null,
   "id": "d826ffe4-4da6-49d6-a049-a661ac7a3034",
   "metadata": {},
   "outputs": [],
   "source": [
    "%%time\n",
    "\n",
    "red = hls_ds['swir_2'][i, :, :]\n",
    "green = hls_ds['nir'][i, :, :]\n",
    "blue = hls_ds['blue'][i, :, :]\n",
    "\n",
    "r = sd_stretch(red.values, lndsr_scale['swir_2'])\n",
    "g = sd_stretch(green.values, lndsr_scale['nir'])\n",
    "b = sd_stretch(blue.values, lndsr_scale['blue'])\n",
    "\n",
    "rgb = hv.RGB(np.dstack([r/255.0, g/255.0, b/255.0, np.ones(b.shape)]))"
   ]
  },
  {
   "cell_type": "code",
   "execution_count": null,
   "id": "b5c051de-ef00-4158-8a1d-dfc83fc872ac",
   "metadata": {},
   "outputs": [],
   "source": [
    "%%time\n",
    "rgb\n",
    "#hv.Image(rgb)"
   ]
  }
 ],
 "metadata": {
  "kernelspec": {
   "display_name": "Python 3 (ipykernel)",
   "language": "python",
   "name": "python3"
  },
  "language_info": {
   "codemirror_mode": {
    "name": "ipython",
    "version": 3
   },
   "file_extension": ".py",
   "mimetype": "text/x-python",
   "name": "python",
   "nbconvert_exporter": "python",
   "pygments_lexer": "ipython3",
   "version": "3.9.7"
  }
 },
 "nbformat": 4,
 "nbformat_minor": 5
}
