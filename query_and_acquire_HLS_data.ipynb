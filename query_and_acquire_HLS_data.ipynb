{
 "cells": [
  {
   "cell_type": "code",
   "execution_count": 1,
   "id": "d078c160-b669-4faa-8bd1-5bb737fa8fa5",
   "metadata": {},
   "outputs": [],
   "source": [
    "'''\n",
    "Query CMR STAC for HLS data given a point location and date range\n",
    "Return a list of asset filenames for AWS or HTTPS access\n",
    "Translate to local filenames and download\n",
    "'''\n",
    "from datetime import datetime, timedelta\n",
    "import json\n",
    "import os\n",
    "import time\n",
    "import requests\n",
    "import boto3\n",
    "from botocore.exceptions import ClientError\n",
    "from pystac_client import Client\n"
   ]
  },
  {
   "cell_type": "code",
   "execution_count": 2,
   "id": "4f26fca9-fa95-4b47-b51e-98a17bececd7",
   "metadata": {},
   "outputs": [],
   "source": [
    "# which collections to search\n",
    "collections = ['HLSL30.v2.0', 'HLSS30.v2.0']\n",
    "\n",
    "# define the point location/centroid for the HLS tile we want\n",
    "pt = json.loads('{\"type\":\"Point\", \"coordinates\":[-105.530017, 40.15442]}')\n",
    "\n",
    "# define the dates we want to query\n",
    "#date_range = \"2021-05-01T00:00:00Z/2021-08-30T23:59:59Z\"    # closed interval\n",
    "#date_range = \"2021-05-01T00:00:00Z/..\"                      # open interval - does not currently work with the CMR-STAC API\n",
    "#date_range = \"2021-05/2021-11\"\n",
    "start_date = datetime(year=2021, day=1, month=1)\n",
    "end_date = datetime(year=2021, day=31, month=12)"
   ]
  },
  {
   "cell_type": "code",
   "execution_count": 5,
   "id": "dd2ca9d8-fcb0-4e80-955e-5955819a81a5",
   "metadata": {},
   "outputs": [],
   "source": [
    "def search_stac_for_HLS(pt, dt_min, dt_max, cloudcover_max=80, lim=100, url='https://cmr.earthdata.nasa.gov/stac/LPCLOUD', collections=['HLSL30.v2.0', 'HLSS30.v2.0']):\n",
    "    # open the catalog\n",
    "    catalog = Client.open(f'{url}')\n",
    "    \n",
    "    # perform the search\n",
    "    search = catalog.search(\n",
    "        collections=collections,\n",
    "        intersects=pt,\n",
    "        datetime=dt_min + '/' + dt_max,\n",
    "        limit=lim\n",
    "    )\n",
    "\n",
    "    links = []\n",
    "\n",
    "    if search.matched() == 0:\n",
    "        print('No granules found at point', pt, 'from', dt_min, 'to', dt_max)\n",
    "    else:\n",
    "        print('Found', search.matched(), 'granules at point', pt, 'from', dt_min, 'to', dt_max)\n",
    "        item_collection = search.get_all_items()\n",
    "        \n",
    "        for i in item_collection:\n",
    "            if i.properties['eo:cloud_cover'] <= cloudcover_max:\n",
    "                if len(links) == 0:\n",
    "                    print(i.properties)\n",
    "                for a in i.assets:\n",
    "                    links.append(i.assets[a].href)\n",
    "\n",
    "    return(links)"
   ]
  },
  {
   "cell_type": "code",
   "execution_count": 6,
   "id": "8519436f-8f05-4042-8b54-481c7a7c286d",
   "metadata": {},
   "outputs": [
    {
     "name": "stdout",
     "output_type": "stream",
     "text": [
      "Found 77 granules at point {'type': 'Point', 'coordinates': [-105.530017, 40.15442]} from 2021-01-01 to 2021-12-31\n",
      "{'datetime': '2021-01-01T18:02:55.690Z', 'start_datetime': '2021-01-01T18:02:55.690Z', 'end_datetime': '2021-01-01T18:02:55.690Z', 'eo:cloud_cover': 50}\n"
     ]
    }
   ],
   "source": [
    "hls_links = search_stac_for_HLS(pt, start_date.strftime(\"%Y-%m-%d\"), end_date.strftime(\"%Y-%m-%d\"))"
   ]
  },
  {
   "cell_type": "code",
   "execution_count": 7,
   "id": "ed585fef-30e6-4879-ad7b-92fc49115436",
   "metadata": {},
   "outputs": [
    {
     "name": "stdout",
     "output_type": "stream",
     "text": [
      "['https://data.lpdaac.earthdatacloud.nasa.gov/lp-prod-protected/HLSS30.020/HLS.S30.T13TDE.2021001T175741.v2.0/HLS.S30.T13TDE.2021001T175741.v2.0.B12.tif', 'https://data.lpdaac.earthdatacloud.nasa.gov/lp-prod-protected/HLSS30.020/HLS.S30.T13TDE.2021001T175741.v2.0/HLS.S30.T13TDE.2021001T175741.v2.0.B02.tif', 'https://data.lpdaac.earthdatacloud.nasa.gov/lp-prod-protected/HLSS30.020/HLS.S30.T13TDE.2021001T175741.v2.0/HLS.S30.T13TDE.2021001T175741.v2.0.B06.tif', 'https://data.lpdaac.earthdatacloud.nasa.gov/lp-prod-protected/HLSS30.020/HLS.S30.T13TDE.2021001T175741.v2.0/HLS.S30.T13TDE.2021001T175741.v2.0.B8A.tif', 'https://data.lpdaac.earthdatacloud.nasa.gov/lp-prod-protected/HLSS30.020/HLS.S30.T13TDE.2021001T175741.v2.0/HLS.S30.T13TDE.2021001T175741.v2.0.B08.tif', 'https://data.lpdaac.earthdatacloud.nasa.gov/lp-prod-protected/HLSS30.020/HLS.S30.T13TDE.2021001T175741.v2.0/HLS.S30.T13TDE.2021001T175741.v2.0.SAA.tif', 'https://data.lpdaac.earthdatacloud.nasa.gov/lp-prod-protected/HLSS30.020/HLS.S30.T13TDE.2021001T175741.v2.0/HLS.S30.T13TDE.2021001T175741.v2.0.B05.tif', 'https://data.lpdaac.earthdatacloud.nasa.gov/lp-prod-protected/HLSS30.020/HLS.S30.T13TDE.2021001T175741.v2.0/HLS.S30.T13TDE.2021001T175741.v2.0.B03.tif', 'https://data.lpdaac.earthdatacloud.nasa.gov/lp-prod-protected/HLSS30.020/HLS.S30.T13TDE.2021001T175741.v2.0/HLS.S30.T13TDE.2021001T175741.v2.0.B11.tif', 'https://data.lpdaac.earthdatacloud.nasa.gov/lp-prod-protected/HLSS30.020/HLS.S30.T13TDE.2021001T175741.v2.0/HLS.S30.T13TDE.2021001T175741.v2.0.B01.tif']\n"
     ]
    }
   ],
   "source": [
    "print(hls_links[0:10])"
   ]
  },
  {
   "cell_type": "code",
   "execution_count": 8,
   "id": "e25a6d9d-6c24-44f9-ad81-cb78ed66b54b",
   "metadata": {},
   "outputs": [
    {
     "name": "stdout",
     "output_type": "stream",
     "text": [
      "['s3://lp-prod-protected/HLSS30.020/HLS.S30.T13TDE.2021001T175741.v2.0/HLS.S30.T13TDE.2021001T175741.v2.0.B12.tif', 's3://lp-prod-protected/HLSS30.020/HLS.S30.T13TDE.2021001T175741.v2.0/HLS.S30.T13TDE.2021001T175741.v2.0.B02.tif', 's3://lp-prod-protected/HLSS30.020/HLS.S30.T13TDE.2021001T175741.v2.0/HLS.S30.T13TDE.2021001T175741.v2.0.B06.tif', 's3://lp-prod-protected/HLSS30.020/HLS.S30.T13TDE.2021001T175741.v2.0/HLS.S30.T13TDE.2021001T175741.v2.0.B8A.tif', 's3://lp-prod-protected/HLSS30.020/HLS.S30.T13TDE.2021001T175741.v2.0/HLS.S30.T13TDE.2021001T175741.v2.0.B08.tif', 's3://lp-prod-protected/HLSS30.020/HLS.S30.T13TDE.2021001T175741.v2.0/HLS.S30.T13TDE.2021001T175741.v2.0.SAA.tif', 's3://lp-prod-protected/HLSS30.020/HLS.S30.T13TDE.2021001T175741.v2.0/HLS.S30.T13TDE.2021001T175741.v2.0.B05.tif', 's3://lp-prod-protected/HLSS30.020/HLS.S30.T13TDE.2021001T175741.v2.0/HLS.S30.T13TDE.2021001T175741.v2.0.B03.tif', 's3://lp-prod-protected/HLSS30.020/HLS.S30.T13TDE.2021001T175741.v2.0/HLS.S30.T13TDE.2021001T175741.v2.0.B11.tif', 's3://lp-prod-protected/HLSS30.020/HLS.S30.T13TDE.2021001T175741.v2.0/HLS.S30.T13TDE.2021001T175741.v2.0.B01.tif', 's3://lp-prod-protected/HLSS30.020/HLS.S30.T13TDE.2021001T175741.v2.0/HLS.S30.T13TDE.2021001T175741.v2.0.B10.tif', 's3://lp-prod-protected/HLSS30.020/HLS.S30.T13TDE.2021001T175741.v2.0/HLS.S30.T13TDE.2021001T175741.v2.0.B09.tif', 's3://lp-prod-protected/HLSS30.020/HLS.S30.T13TDE.2021001T175741.v2.0/HLS.S30.T13TDE.2021001T175741.v2.0.B07.tif', 's3://lp-prod-protected/HLSS30.020/HLS.S30.T13TDE.2021001T175741.v2.0/HLS.S30.T13TDE.2021001T175741.v2.0.B04.tif', 's3://lp-prod-protected/HLSS30.020/HLS.S30.T13TDE.2021001T175741.v2.0/HLS.S30.T13TDE.2021001T175741.v2.0.VAA.tif', 's3://lp-prod-protected/HLSS30.020/HLS.S30.T13TDE.2021001T175741.v2.0/HLS.S30.T13TDE.2021001T175741.v2.0.SZA.tif', 's3://lp-prod-protected/HLSS30.020/HLS.S30.T13TDE.2021001T175741.v2.0/HLS.S30.T13TDE.2021001T175741.v2.0.VZA.tif', 's3://lp-prod-protected/HLSS30.020/HLS.S30.T13TDE.2021001T175741.v2.0/HLS.S30.T13TDE.2021001T175741.v2.0.Fmask.tif', 's3://lp-prod-public/HLSS30.020/HLS.S30.T13TDE.2021001T175741.v2.0/HLS.S30.T13TDE.2021001T175741.v2.0.jpg', 's3://search/concepts/G2163338554-LPCLOUD.xml']\n"
     ]
    }
   ],
   "source": [
    "# convert https links to s3 links\n",
    "s3_links = [l.replace('https://data.lpdaac.earthdatacloud.nasa.gov/', 's3://') for l in hls_links]\n",
    "s3_links = [l.replace('https://cmr.earthdata.nasa.gov/', 's3://') for l in s3_links]\n",
    "print(s3_links[0:20])"
   ]
  },
  {
   "cell_type": "code",
   "execution_count": 9,
   "id": "fc9db853-8fd3-421c-a51f-e9b319058da6",
   "metadata": {},
   "outputs": [
    {
     "name": "stdout",
     "output_type": "stream",
     "text": [
      "['./HLS_data/T13TDE/HLS.S30.T13TDE.2021001T175741.v2.0/HLS.S30.T13TDE.2021001T175741.v2.0.B12.tif', './HLS_data/T13TDE/HLS.S30.T13TDE.2021001T175741.v2.0/HLS.S30.T13TDE.2021001T175741.v2.0.B02.tif', './HLS_data/T13TDE/HLS.S30.T13TDE.2021001T175741.v2.0/HLS.S30.T13TDE.2021001T175741.v2.0.B06.tif', './HLS_data/T13TDE/HLS.S30.T13TDE.2021001T175741.v2.0/HLS.S30.T13TDE.2021001T175741.v2.0.B8A.tif', './HLS_data/T13TDE/HLS.S30.T13TDE.2021001T175741.v2.0/HLS.S30.T13TDE.2021001T175741.v2.0.B08.tif', './HLS_data/T13TDE/HLS.S30.T13TDE.2021001T175741.v2.0/HLS.S30.T13TDE.2021001T175741.v2.0.SAA.tif', './HLS_data/T13TDE/HLS.S30.T13TDE.2021001T175741.v2.0/HLS.S30.T13TDE.2021001T175741.v2.0.B05.tif', './HLS_data/T13TDE/HLS.S30.T13TDE.2021001T175741.v2.0/HLS.S30.T13TDE.2021001T175741.v2.0.B03.tif', './HLS_data/T13TDE/HLS.S30.T13TDE.2021001T175741.v2.0/HLS.S30.T13TDE.2021001T175741.v2.0.B11.tif', './HLS_data/T13TDE/HLS.S30.T13TDE.2021001T175741.v2.0/HLS.S30.T13TDE.2021001T175741.v2.0.B01.tif']\n"
     ]
    }
   ],
   "source": [
    "def fix_links(src_link, src_dirs, dst_dir, meta_dir, add_tile_dir=True):\n",
    "    dst_link = src_link\n",
    "\n",
    "    if '.xml' in dst_link:\n",
    "        dst_link2 = os.path.join(meta_dir, os.path.basename(dst_link))\n",
    "    else:\n",
    "        for src_dir in src_dirs:\n",
    "            dst_link = dst_link.replace(src_dir, dst_dir)\n",
    "        dst_splits = dst_link.split('/')\n",
    "        dst_link2 = '/'.join(dst_splits[0:2]) + \\\n",
    "            '/' + dst_splits[3].split('.')[2] + \\\n",
    "            '/' + '/'.join(dst_splits[3:])\n",
    "    \n",
    "    return(dst_link2)\n",
    "\n",
    "#fix_links(s3_links[0], 's3://lp-prod-protected', './HLS_data')\n",
    "local_links = [fix_links(src_link=l, src_dirs=['s3://lp-prod-protected', 's3://lp-prod-public'], dst_dir='./HLS_data', meta_dir='./HLS_metadata') for l in s3_links]\n",
    "print(local_links[0:10])"
   ]
  },
  {
   "cell_type": "code",
   "execution_count": 10,
   "id": "a58bec48-267c-4a24-addf-089fd3ec01aa",
   "metadata": {},
   "outputs": [],
   "source": [
    "# get credentials\n",
    "s3_cred_endpoint = 'https://data.lpdaac.earthdatacloud.nasa.gov/s3credentials'\n",
    "def get_temp_creds():\n",
    "    temp_creds_url = s3_cred_endpoint\n",
    "    return requests.get(temp_creds_url).json()\n",
    "\n",
    "temp_creds_req = get_temp_creds()\n",
    "\n",
    "session = boto3.Session(aws_access_key_id=temp_creds_req['accessKeyId'], \n",
    "                        aws_secret_access_key=temp_creds_req['secretAccessKey'],\n",
    "                        aws_session_token=temp_creds_req['sessionToken'],\n",
    "                        region_name='us-west-2')"
   ]
  },
  {
   "cell_type": "code",
   "execution_count": 11,
   "id": "2b291896-c73b-4ef8-abc2-ed67f3743e10",
   "metadata": {},
   "outputs": [],
   "source": [
    "def make_dirs(dst_links):\n",
    "    for dst_link in dst_links:\n",
    "        os.makedirs(os.path.dirname(dst_link), exist_ok=True)\n",
    "        \n",
    "make_dirs(local_links)"
   ]
  },
  {
   "cell_type": "code",
   "execution_count": 14,
   "id": "5cbf9284-38da-4b1c-9321-aff84ff0a2f6",
   "metadata": {},
   "outputs": [
    {
     "name": "stdout",
     "output_type": "stream",
     "text": [
      "Time to download HLS data: 331 (s)\n"
     ]
    }
   ],
   "source": [
    "s3 = session.client('s3')\n",
    "\n",
    "def download_data(s3_links, local_links, s3_session):\n",
    "    s3_links = [l.replace('s3://', '') for l in s3_links]\n",
    "    \n",
    "    for i in range(0, len(s3_links)):\n",
    "        s3_link = s3_links[i]\n",
    "        s3_bucket = s3_link.split('/')[0]\n",
    "        s3_link = s3_link.replace(s3_bucket +'/', '')        \n",
    "        local_link = local_links[i]\n",
    "        \n",
    "        # ignore XML files for now, figure out how to get them later because they contain useful information\n",
    "        if not '.xml' in local_link:\n",
    "            with open(local_link, 'wb') as f:\n",
    "                #print(i, s3_bucket, s3_link, local_link)\n",
    "                s3.download_fileobj(s3_bucket, s3_link, f)\n",
    "\n",
    "start_time = time.time()\n",
    "download_data(s3_links, local_links, s3)\n",
    "end_time = time.time()\n",
    "print('Time to download HLS data:', round(end_time - start_time), '(s)')"
   ]
  },
  {
   "cell_type": "code",
   "execution_count": 29,
   "id": "3d864f45-bb39-4d42-8a6d-56a6f7edecf3",
   "metadata": {},
   "outputs": [
    {
     "name": "stdout",
     "output_type": "stream",
     "text": [
      "                                               S3_links  \\\n",
      "0     s3://lp-prod-protected/HLSS30.020/HLS.S30.T13T...   \n",
      "1     s3://lp-prod-protected/HLSS30.020/HLS.S30.T13T...   \n",
      "2     s3://lp-prod-protected/HLSS30.020/HLS.S30.T13T...   \n",
      "3     s3://lp-prod-protected/HLSS30.020/HLS.S30.T13T...   \n",
      "4     s3://lp-prod-protected/HLSS30.020/HLS.S30.T13T...   \n",
      "...                                                 ...   \n",
      "1056  s3://lp-prod-protected/HLSS30.020/HLS.S30.T13T...   \n",
      "1057  s3://lp-prod-protected/HLSS30.020/HLS.S30.T13T...   \n",
      "1058  s3://lp-prod-protected/HLSS30.020/HLS.S30.T13T...   \n",
      "1059  s3://lp-prod-public/HLSS30.020/HLS.S30.T13TDE....   \n",
      "1060       s3://search/concepts/G2165792011-LPCLOUD.xml   \n",
      "\n",
      "                                            local_links sensor    tile  \\\n",
      "0     ./HLS_data/T13TDE/HLS.S30.T13TDE.2021001T17574...    S30  T13TDE   \n",
      "1     ./HLS_data/T13TDE/HLS.S30.T13TDE.2021001T17574...    S30  T13TDE   \n",
      "2     ./HLS_data/T13TDE/HLS.S30.T13TDE.2021001T17574...    S30  T13TDE   \n",
      "3     ./HLS_data/T13TDE/HLS.S30.T13TDE.2021001T17574...    S30  T13TDE   \n",
      "4     ./HLS_data/T13TDE/HLS.S30.T13TDE.2021001T17574...    S30  T13TDE   \n",
      "...                                                 ...    ...     ...   \n",
      "1056  ./HLS_data/T13TDE/HLS.S30.T13TDE.2021316T17555...    S30  T13TDE   \n",
      "1057  ./HLS_data/T13TDE/HLS.S30.T13TDE.2021316T17555...    S30  T13TDE   \n",
      "1058  ./HLS_data/T13TDE/HLS.S30.T13TDE.2021316T17555...    S30  T13TDE   \n",
      "1059  ./HLS_data/T13TDE/HLS.S30.T13TDE.2021316T17555...    S30  T13TDE   \n",
      "1060             ./HLS_metadata/G2165792011-LPCLOUD.xml    NaN     NaN   \n",
      "\n",
      "                date band  \n",
      "0     2021001T175741  B12  \n",
      "1     2021001T175741  B02  \n",
      "2     2021001T175741  B06  \n",
      "3     2021001T175741  B8A  \n",
      "4     2021001T175741  B08  \n",
      "...              ...  ...  \n",
      "1056  2021316T175559  VZA  \n",
      "1057  2021316T175559  SAA  \n",
      "1058  2021316T175559  B12  \n",
      "1059  2021316T175559  jpg  \n",
      "1060             NaN  NaN  \n",
      "\n",
      "[1061 rows x 6 columns]\n"
     ]
    }
   ],
   "source": [
    "# create a .csv file of S3 links, local links, and information about each file\n",
    "import pandas\n",
    "\n",
    "stack_df = pandas.DataFrame().from_dict({'S3_links':s3_links, 'local_links':local_links})\n",
    "\n",
    "# add sensor, tile, dates, bands\n",
    "for i in range(0, stack_df.shape[0]):\n",
    "    link = s3_links[i]\n",
    "    if (not '.xml' in link) & (not '.png' in link):\n",
    "        stack_df.loc[i, 'sensor'] = os.path.basename(link).split('.')[1]\n",
    "        stack_df.loc[i, 'tile'] = os.path.basename(link).split('.')[2]\n",
    "        stack_df.loc[i, 'date'] = os.path.basename(link).split('.')[3]\n",
    "        stack_df.loc[i, 'band'] = os.path.basename(link).split('.')[6]\n",
    "        \n",
    "stack_df"
   ]
  }
 ],
 "metadata": {
  "kernelspec": {
   "display_name": "Python 3 (ipykernel)",
   "language": "python",
   "name": "python3"
  },
  "language_info": {
   "codemirror_mode": {
    "name": "ipython",
    "version": 3
   },
   "file_extension": ".py",
   "mimetype": "text/x-python",
   "name": "python",
   "nbconvert_exporter": "python",
   "pygments_lexer": "ipython3",
   "version": "3.9.7"
  }
 },
 "nbformat": 4,
 "nbformat_minor": 5
}
